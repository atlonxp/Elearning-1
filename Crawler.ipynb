{
 "cells": [
  {
   "cell_type": "code",
   "execution_count": 1,
   "metadata": {},
   "outputs": [],
   "source": [
    "import requests\n",
    "from bs4 import BeautifulSoup"
   ]
  },
  {
   "cell_type": "code",
   "execution_count": 78,
   "metadata": {},
   "outputs": [],
   "source": [
    "import requests\n",
    "from bs4 import BeautifulSoup\n",
    "\n",
    "def Crawler_cha(keyword = 'fable'):\n",
    "    \n",
    "    headers = {\n",
    "     'user-agent': 'Mozilla/5.0 (Macintosh; Intel Mac OS X 10_12_3) AppleWebKit/537.36 (KHTML, like Gecko) Chrome/56.0.2924.87 Safari/537.36'\n",
    "    }\n",
    "    rs = requests.Session()\n",
    "    url = \"https://tw.ichacha.net/hy/zaoju.aspx?q=\"+keyword\n",
    "    res = rs.get(url, headers=headers)\n",
    "    bs = BeautifulSoup(res.text,'lxml')\n",
    "    \n",
    "    examples=[]\n",
    "\n",
    "    raw_pages = bs.find_all('a', attrs={'style':'text-decoration:underline;color:green'})\n",
    "    pages=[]\n",
    "\n",
    "    if raw_pages:\n",
    "        print(\"還有例句\")\n",
    "\n",
    "        for page in raw_pages:\n",
    "    #         print(page.get('href'))\n",
    "            pages.append(page.get('href'))\n",
    "\n",
    "\n",
    "            raw_examples = bs.find_all('li', attrs={'style':'text-align:left'})\n",
    "            for raw_example in raw_examples:\n",
    "    #             print(raw_example.text)\n",
    "                examples.append(raw_example.text)\n",
    "\n",
    "\n",
    "            url = \"https://tw.ichacha.net\"+page.get('href')\n",
    "            res = rs.get(url, headers=headers)\n",
    "            bs = BeautifulSoup(res.text,'lxml')\n",
    "\n",
    "    else:\n",
    "        print(\"沒有更多例句了\")\n",
    "    \n",
    "    return examples\n"
   ]
  },
  {
   "cell_type": "code",
   "execution_count": 79,
   "metadata": {},
   "outputs": [
    {
     "name": "stdout",
     "output_type": "stream",
     "text": [
      "還有例句\n"
     ]
    },
    {
     "data": {
      "text/plain": [
       "['A man of moral integrity never resorts to deception .明人不做暗事。',\n",
       " 'The moral of this story is very simple .這個故事的寓意是十分簡單的。',\n",
       " 'Nothing remains but to draw the moral .只要引出其中的教訓就行了。',\n",
       " 'It had largely replaced moral judgements .事實上它已取代了道德上的概念。',\n",
       " 'In his business affairs he has no morals .他做生意不講道德。',\n",
       " 'His moral standards have been called into question .他的道德標準令人懷疑。',\n",
       " 'He is a man of strong moral fibre .他是個道德品性堅強的人。',\n",
       " 'The boy is the very moral of his father .這孩子活像他父親。',\n",
       " \"He 's never done anything injurious to morals .他從未做過任何傷風敗俗的事。\",\n",
       " 'He felt his moral nature falling to pieces .他感覺到自己的德行已經喪失殆盡。',\n",
       " 'The partners share this moral responsibility .股東們共同承擔這種道義上的責任。',\n",
       " 'Politics is fundamentally not a moral profession .政治根本不是什么講道義的職業。',\n",
       " 'Indeed, it had largely replaced moral judgements .事實上它已大致取代了道德上概念。',\n",
       " 'Humanbeings are moral individuals .人是精神個體。',\n",
       " 'This gives a moral grandeur to his achievements .這使他的業績在道義上也顯得崇高偉大。',\n",
       " 'He has born intense moral suffering for many years .他多年來忍受了極大的精神上的煎熬。',\n",
       " 'He has no moral standards .他沒有任何道德標準。',\n",
       " 'The star student of the second grade is a moral outcast .二年級的尖子是個地地道道的流氓。',\n",
       " 'We should draw a moral from the startling fact ..我們應當從這些觸目驚心的事實中吸取教訓。',\n",
       " 'I have no principled objection to it based on moral scruples .從道德上來說，我并不反對此事。',\n",
       " 'Moral considerations alone incited his rebellion .他這種反叛行為完全是由精神上的因素造成的。',\n",
       " 'I am a little shy of any assumption of moral indignation .我不太愿意擺出一副義憤填膺的架勢來。',\n",
       " 'I have no evidence but moral evidence to bring forward .我沒有真憑實據，只有提出道義上的證據。',\n",
       " 'We have a moral certainty that the experiment will prove a success .我們內心確信實驗將獲得成功。',\n",
       " \"The moral effect of the day's fighting was so great .這一天的戰斗所帶來的精神上的作用是如此巨大。\",\n",
       " \"You don't see any moral objection to that, do you ?你對于這一點不會有什么道義上的反對吧，是不是？\",\n",
       " \"It's better to have a grain of wit than a collection of moral saws .一丁點智慧勝過一大本道德格言。\",\n",
       " 'The church should give more of a lead on  basic moral issues .教會應當就基本道德問題多做出些榜樣。',\n",
       " 'I imagine that you may deduce an apt moral from my tale .我覺得你也許能從我的際遇中引出恰當的教訓。',\n",
       " 'She has no morals !她沒有道德標準！',\n",
       " \"Duty and will were thus the basis of kant's moral philosophy .可見義務和意志是康德的道德哲學的基礎。\",\n",
       " 'He is content to draw the most flippant of morals from the story .他滿足于從故事中引出最輕率的教訓。',\n",
       " 'You never say a moral thing, and you never do a wrong thing .你從來不侈談道德，可也從來沒有越軌行為。',\n",
       " 'Levchenko recoiled at what he deemed moral corruption .列夫欽科把他所認為的道德上的貪污腐化視若蛇蝎。',\n",
       " 'In fact the morals of the affair weighed lightly upon her .事實上，這樁事情的道德方面她覺得無足輕重。',\n",
       " 'They guide their lives by reasoning more than by moral feeling .他們靠理性而不是靠道德感指導自己的生活。',\n",
       " 'When he entered politics, it came to mean moral courage .等到他參加政治活動以后，那又意味著道德上的勇敢。',\n",
       " 'Whoever roused his jealousy incurred his moral disapproval .誰要是引起了他的妒忌就會遭到他的道義上的譴責。',\n",
       " 'We are not sent into the world to air our moral prejudices .我們生而為人可不是為了炫耀自己倫理上的偏見的。',\n",
       " 'The revolution in morals and customs had run its full course by 1930 .道德和習俗的革命，到1930年已走到盡頭。']"
      ]
     },
     "execution_count": 79,
     "metadata": {},
     "output_type": "execute_result"
    }
   ],
   "source": [
    "Crawler_cha('moral')"
   ]
  },
  {
   "cell_type": "code",
   "execution_count": null,
   "metadata": {},
   "outputs": [],
   "source": []
  }
 ],
 "metadata": {
  "kernelspec": {
   "display_name": "elearning",
   "language": "python",
   "name": "elearning"
  },
  "language_info": {
   "codemirror_mode": {
    "name": "ipython",
    "version": 3
   },
   "file_extension": ".py",
   "mimetype": "text/x-python",
   "name": "python",
   "nbconvert_exporter": "python",
   "pygments_lexer": "ipython3",
   "version": "3.6.9"
  }
 },
 "nbformat": 4,
 "nbformat_minor": 2
}
