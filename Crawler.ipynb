{
 "cells": [
  {
   "cell_type": "code",
   "execution_count": 1,
   "metadata": {},
   "outputs": [],
   "source": [
    "import requests\n",
    "from bs4 import BeautifulSoup"
   ]
  },
  {
   "cell_type": "code",
   "execution_count": 78,
   "metadata": {},
   "outputs": [],
   "source": [
    "import requests\n",
    "from bs4 import BeautifulSoup\n",
    "\n",
    "def Crawler_cha(keyword = 'fable'):\n",
    "    \n",
    "    headers = {\n",
    "     'user-agent': 'Mozilla/5.0 (Macintosh; Intel Mac OS X 10_12_3) AppleWebKit/537.36 (KHTML, like Gecko) Chrome/56.0.2924.87 Safari/537.36'\n",
    "    }\n",
    "    rs = requests.Session()\n",
    "    url = \"https://tw.ichacha.net/hy/zaoju.aspx?q=\"+keyword\n",
    "    res = rs.get(url, headers=headers)\n",
    "    bs = BeautifulSoup(res.text,'lxml')\n",
    "    \n",
    "    examples=[]\n",
    "\n",
    "    raw_pages = bs.find_all('a', attrs={'style':'text-decoration:underline;color:green'})\n",
    "    pages=[]\n",
    "\n",
    "    if raw_pages:\n",
    "        print(\"還有例句\")\n",
    "\n",
    "        for page in raw_pages:\n",
    "    #         print(page.get('href'))\n",
    "            pages.append(page.get('href'))\n",
    "\n",
    "\n",
    "            raw_examples = bs.find_all('li', attrs={'style':'text-align:left'})\n",
    "            for raw_example in raw_examples:\n",
    "    #             print(raw_example.text)\n",
    "                examples.append(raw_example.text)\n",
    "\n",
    "\n",
    "            url = \"https://tw.ichacha.net\"+page.get('href')\n",
    "            res = rs.get(url, headers=headers)\n",
    "            bs = BeautifulSoup(res.text,'lxml')\n",
    "\n",
    "    else:\n",
    "        print(\"沒有更多例句了\")\n",
    "    \n",
    "    return examples\n"
   ]
  },
  {
   "cell_type": "code",
   "execution_count": 85,
   "metadata": {},
   "outputs": [
    {
     "name": "stdout",
     "output_type": "stream",
     "text": [
      "還有例句\n"
     ]
    }
   ],
   "source": [
    "examples_craw = Crawler_cha('classic')"
   ]
  },
  {
   "cell_type": "code",
   "execution_count": 86,
   "metadata": {},
   "outputs": [
    {
     "name": "stdout",
     "output_type": "stream",
     "text": [
      "His handbook on mushroom is a classic .他著的蘑菇手冊是一部權威作品。\n",
      "He fell into raptures over classic music .他對古典音樂喜愛若狂。\n",
      "Both of these two cars were classics .這兩種車都堪為典范。\n",
      "Robinson crusoe is a classic .《魯濱遜漂流記》是一部名著。\n",
      "Chile had fallen into a classic revolutionary pattern .智利已出現典型的革命格局。\n",
      "It was incendiary classic .這是一次典型的縱火行為。\n",
      "That is classic politics .那是歷來如此的政治。\n",
      "Mition is a classic .彌爾頓是第一流作家。\n",
      "Dante is a classic .但丁是個大文豪。\n",
      "His naturally even-molded face was set in fine, classic lines .他天生平整的面龐現出優美、高雅的線條。\n",
      "The classic law-of-nature is an essentially revolutionary doctrine .古典自然法基本上是一種革命的理論。\n",
      "This chapter is spent on three classic case of successful biological control .本章著重于生物防治的三個成功的經典例子。\n",
      "Meadows here is however falling foul of the classic chicken-and-egg argument .這里，麥多斯陷入自古以來的“雞和蛋”之爭。\n",
      "There has been a steady flow of classic studies of american culture and fiction .大量有關美國文化和小說的經典論著不斷涌現。\n",
      "His command of irony and invective was said to be very classic and lethal .據說他嬉笑怒罵的本領是極其杰出的，令人無法招架的。\n",
      "It is a classic sanctuary in which the rationalist fancy may take refuge .它只是一個古雅的圣殿，理性主義者可以在里面躲避起來。\n",
      "I have acquired quite an average student's power to read the common ancient classics .我已經有一般學生讀普通古典文學書的能力了。\n",
      "\" the manifesto of the communist party \" is one of the greatest classics in history .《共產黨宣言》是歷史上最偉大的經典著作之一。\n",
      "At such times his command of invective was said to be classic and lethal .在那種時候，據說他嬉笑怒罵的本領是極其杰出和無法招架的。\n",
      "His treatment of the transfer problem and of the gains from trade are both rigorous and classic .他對轉讓問題和貿易收益的論述既嚴謹又具有權威性。\n",
      "Beginning in the sixteenth century many greek classics were translated into the popular languages .從十六世紀開始，許多希臘的經典著作被譯成了通俗的語言。\n",
      "The king treated me with classic african dignity, and this is one of the summits of human behavior .國王以典型的非洲式的莊重態度接持我，堪稱待人接物的楷模。\n",
      "Arthur waley's translations of chinese tang poetry have become classics of twentieth-century english verse .亞瑟豐利翻譯的中國唐詩已成為20世紀英語詩歌中的精品。\n",
      "The classic twain, however, like the early chaplain, is a great artist whose touch is sure .可是優秀的馬克吐溫，正如早期的卓別林，卻是一個極有把握的偉大藝術家。\n",
      "Reinhardt followed with a programme of naturalist works interspersed with revitualized classics .接著組織了一個自然主義作品的節目,中間還插進一些有活力的古典作品。\n",
      "In the classic script for a cartel, the group sets a unified optimally exploiting price structure .按照卡特爾的傳統范本，這個集團制定出一個統一的最有利于剝削的價格結構。\n",
      "He displayed the liveliest interest in human vagaries, together with the wide view that makes the work a classic .他對人類的異想天開顯示了濃厚的興趣，加以涉及的幅度廣闊，使他這部歷史成了經典著作。\n",
      "We feel that fracture mechanics should be dated from 1948, the year of publication of the first of irwin's classic papers .我們認為斷裂力學應該從1948年開始，在這一年里，Irwin發表了他的第一篇經典文章。\n",
      "After half a century, it still serves as the classic version of some aspects of linguistics, because it is so concisely written .半個世紀后的今天，這部著作仍因其簡潔明了被視為語言學中某些方面的經典著述。\n",
      "The report by g. k. gilbert on the geomorphology and structure of the henry mountains of southeastern utah is a classic of geological literature .吉爾伯特關于猶他州東南部的享利山的地貌和構造的報告是一篇杰出的地質文獻。\n",
      "In his nine volumes he displayed the liveliest interest in human vagaries, together with the wide view that makes the work a classic .他在這九卷巨著里，對于人類的異想天開顯示了最濃厚的興趣，加以涉及的幅度廣闊，使這部巨作成了經典著作。\n",
      "Sammy ! fantastic show ! classic drumming , son薩姆，精彩的演出一流的鼓手，兒子\n",
      "18 theme track from the classic hong kong tv dramas18首經典電視劇主題曲精選dvd \n",
      "Pipe dream classic diy games - 4455 miniclip games纖纖玉手diy小游戲- 4399小游戲\n",
      "3 - cd pack , featuring 45 classics of paula tsui3cd套裝,收錄徐小鳳經典好歌45首\n",
      "On kant ' s classic tendency in his artistic viewpoint論康德藝術觀的古典主義傾向\n",
      "Deep throat . di rector ' s cut . absol ute classic喉嚨深處，導演剪輯版，絕對經典\n",
      "Classic russian box games - 4455 miniclip games經典俄羅斯方塊小游戲- 4399小游戲\n",
      "The selection of 70 s classic mandarin song ii70年代國語經典精華i i -今天不回家\n",
      "Classic shan hai jing amp; ancient geography of zhejiang古會稽山乃在義烏的西北\n"
     ]
    }
   ],
   "source": [
    "for example_craw in examples_craw:\n",
    "    print(example_craw)"
   ]
  },
  {
   "cell_type": "code",
   "execution_count": null,
   "metadata": {},
   "outputs": [],
   "source": []
  }
 ],
 "metadata": {
  "kernelspec": {
   "display_name": "elearning",
   "language": "python",
   "name": "elearning"
  },
  "language_info": {
   "codemirror_mode": {
    "name": "ipython",
    "version": 3
   },
   "file_extension": ".py",
   "mimetype": "text/x-python",
   "name": "python",
   "nbconvert_exporter": "python",
   "pygments_lexer": "ipython3",
   "version": "3.6.9"
  }
 },
 "nbformat": 4,
 "nbformat_minor": 2
}
