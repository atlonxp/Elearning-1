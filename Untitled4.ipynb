{
 "cells": [
  {
   "cell_type": "code",
   "execution_count": 8,
   "metadata": {},
   "outputs": [
    {
     "name": "stdout",
     "output_type": "stream",
     "text": [
      "fear.n.01\n",
      "fear\n",
      "an emotion experienced in anticipation of some specific pain or danger (usually accompanied by a desire to flee or fight)\n",
      "[]\n",
      "['care had aged him', 'they hushed it up out of fear of public reaction']\n",
      "['the fear of God', 'the Chinese reverence for the dead', 'the French treat food with gentle reverence', 'his respect for the law bordered on veneration']\n",
      "['I fear she might get aggressive']\n",
      "['I fear the winters in Moscow', 'We should not fear the Communists!']\n",
      "[\"I fear I won't make it to your wedding party\"]\n",
      "['I fear the results of the final exams']\n",
      "['Fear God as your father', 'We venerate genius']\n"
     ]
    }
   ],
   "source": [
    "# First, you're going to need to import wordnet: \n",
    "from nltk.corpus import wordnet \n",
    "  \n",
    "# Then, we're going to use the term \"program\" to find synsets like so: \n",
    "syns = wordnet.synsets(\"fear\") \n",
    "  \n",
    "# An example of a synset: \n",
    "print(syns[0].name()) \n",
    "  \n",
    "# Just the word: \n",
    "print(syns[0].lemmas()[0].name()) \n",
    "  \n",
    "# Definition of that first synset: \n",
    "print(syns[0].definition()) \n",
    "  \n",
    "# Examples of the word in use in sentences: \n",
    "for syn in syns:\n",
    "    print(syn.examples())\n",
    "# print(syns[0].examples()) "
   ]
  },
  {
   "cell_type": "code",
   "execution_count": 24,
   "metadata": {},
   "outputs": [
    {
     "data": {
      "text/plain": [
       "[]"
      ]
     },
     "execution_count": 24,
     "metadata": {},
     "output_type": "execute_result"
    }
   ],
   "source": [
    "wordnet.synset('fable.n.02').examples()"
   ]
  },
  {
   "cell_type": "code",
   "execution_count": 23,
   "metadata": {},
   "outputs": [
    {
     "data": {
      "text/plain": [
       "[Synset('fabrication.n.01'), Synset('fable.n.02'), Synset('legend.n.01')]"
      ]
     },
     "execution_count": 23,
     "metadata": {},
     "output_type": "execute_result"
    }
   ],
   "source": [
    "wordnet.synsets('fable')"
   ]
  },
  {
   "cell_type": "code",
   "execution_count": null,
   "metadata": {},
   "outputs": [],
   "source": [
    "'the fear of God',\n",
    "'the Chinese reverence for the dead',\n",
    "'the French treat food with gentle reverence',\n",
    "'his respect for the law bordered on veneration"
   ]
  }
 ],
 "metadata": {
  "kernelspec": {
   "display_name": "elearning",
   "language": "python",
   "name": "elearning"
  },
  "language_info": {
   "codemirror_mode": {
    "name": "ipython",
    "version": 3
   },
   "file_extension": ".py",
   "mimetype": "text/x-python",
   "name": "python",
   "nbconvert_exporter": "python",
   "pygments_lexer": "ipython3",
   "version": "3.6.9"
  }
 },
 "nbformat": 4,
 "nbformat_minor": 2
}
