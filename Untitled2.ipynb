{
 "cells": [
  {
   "cell_type": "code",
   "execution_count": 1,
   "metadata": {},
   "outputs": [],
   "source": [
    "import codecs\n",
    "word_dict={}\n",
    "cont=''\n",
    "\n",
    "wd_adjective=[]\n",
    "wd_noun=[]\n",
    "wd_verb=[]\n",
    "wd_adverb=[]\n",
    "with codecs.open('7000單字.txt', 'r', encoding='utf8') as f:\n",
    "    for line in f:\n",
    "        tmp = line.split('\\t')\n",
    "        word_dict.update({tmp[0]:tmp[1]})\n",
    "        if tmp[1]=='a' or tmp[1]=='adj.':\n",
    "            wd_adjective.append(tmp[0])\n",
    "        elif tmp[1] == 'n' or tmp[1] == 'n.' or tmp[1] == 'N':\n",
    "            wd_noun.append(tmp[0])\n",
    "        elif tmp[1] == 'v' :\n",
    "            wd_verb.append(tmp[0])\n",
    "        elif tmp[1] == 'r' or tmp[1] == 'adv.' or tmp[1] == 'adv':\n",
    "            wd_adverb.append(tmp[0])"
   ]
  },
  {
   "cell_type": "code",
   "execution_count": 4,
   "metadata": {},
   "outputs": [
    {
     "name": "stdout",
     "output_type": "stream",
     "text": [
      "plan.n.01\n",
      "plan\n",
      "a series of steps to be carried out or goals to be accomplished\n",
      "['they drew up a six-step plan', 'they discussed plans for a new bond issue']\n"
     ]
    }
   ],
   "source": [
    "# First, you're going to need to import wordnet: \n",
    "from nltk.corpus import wordnet \n",
    "  \n",
    "# Then, we're going to use the term \"program\" to find synsets like so: \n",
    "syns = wordnet.synsets(\"program\") \n",
    "  \n",
    "# An example of a synset: \n",
    "print(syns[0].name()) \n",
    "  \n",
    "# Just the word: \n",
    "print(syns[0].lemmas()[0].name()) \n",
    "  \n",
    "# Definition of that first synset: \n",
    "print(syns[0].definition()) \n",
    "  \n",
    "# Examples of the word in use in sentences: \n",
    "print(syns[0].examples()) "
   ]
  },
  {
   "cell_type": "code",
   "execution_count": 14,
   "metadata": {},
   "outputs": [
    {
     "name": "stdout",
     "output_type": "stream",
     "text": [
      "noun.feeling\n",
      "noun.feeling\n",
      "noun.feeling\n",
      "verb.emotion\n",
      "verb.emotion\n",
      "verb.emotion\n",
      "verb.emotion\n",
      "verb.emotion\n"
     ]
    }
   ],
   "source": [
    "from nltk.corpus import wordnet as wn\n",
    "for synset in wn.synsets('fear'):\n",
    "    print (synset.lexname())"
   ]
  },
  {
   "cell_type": "code",
   "execution_count": 13,
   "metadata": {},
   "outputs": [
    {
     "data": {
      "text/plain": [
       "'verb.emotion'"
      ]
     },
     "execution_count": 13,
     "metadata": {},
     "output_type": "execute_result"
    }
   ],
   "source": [
    "synset.lexname()"
   ]
  },
  {
   "cell_type": "code",
   "execution_count": null,
   "metadata": {},
   "outputs": [],
   "source": []
  }
 ],
 "metadata": {
  "kernelspec": {
   "display_name": "elearning",
   "language": "python",
   "name": "elearning"
  },
  "language_info": {
   "codemirror_mode": {
    "name": "ipython",
    "version": 3
   },
   "file_extension": ".py",
   "mimetype": "text/x-python",
   "name": "python",
   "nbconvert_exporter": "python",
   "pygments_lexer": "ipython3",
   "version": "3.6.9"
  }
 },
 "nbformat": 4,
 "nbformat_minor": 2
}
