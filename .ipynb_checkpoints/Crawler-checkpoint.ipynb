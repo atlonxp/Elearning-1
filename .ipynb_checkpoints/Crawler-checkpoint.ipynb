{
 "cells": [
  {
   "cell_type": "code",
   "execution_count": 1,
   "metadata": {},
   "outputs": [],
   "source": [
    "import requests\n",
    "from bs4 import BeautifulSoup"
   ]
  },
  {
   "cell_type": "code",
   "execution_count": 57,
   "metadata": {},
   "outputs": [],
   "source": [
    "headers = {\n",
    " 'user-agent': 'Mozilla/5.0 (Macintosh; Intel Mac OS X 10_12_3) AppleWebKit/537.36 (KHTML, like Gecko) Chrome/56.0.2924.87 Safari/537.36'\n",
    "}\n",
    "rs = requests.Session()\n",
    "keyword = 'fable'\n",
    "url = \"https://tw.ichacha.net/hy/zaoju.aspx?q=\"+keyword\n",
    "\n"
   ]
  },
  {
   "cell_type": "code",
   "execution_count": 40,
   "metadata": {},
   "outputs": [],
   "source": [
    "res = rs.get(url, headers=headers)"
   ]
  },
  {
   "cell_type": "code",
   "execution_count": 46,
   "metadata": {},
   "outputs": [
    {
     "name": "stdout",
     "output_type": "stream",
     "text": [
      "He had some motive in telling this fable .他講這寓言故事是有用意的。\n",
      "The fable is given on the next page .這篇寓言登在下一頁上。\n",
      "Tell them the fable about the fox and the grapes .告訴他們那個狐貍與葡萄的寓言吧。\n",
      "We could not decide if it was fact or fable .我們無法確定這究竟是事實還是無稽之談。\n",
      "We may take the story of job for a history or a fable .我們可以把約伯的故事當作歷史或傳說。\n",
      "Great satire needs the sustenance of great fable .偉大的諷刺作品需要偉大的怪異故事來滋養它。\n",
      "Little mexican boys also breathe the american fables .墨西哥族的小孩子對美國神話也都耳濡目染。\n",
      "Such walls as in time may linger as a mere fable .這類高墻到將來只會給后代當作閑話當年的資料罷了。\n",
      "But fables and legends and aspirations have a hold on the human mind .但是，神話、傳說和愿望是能影響人的思想的。\n",
      "About a hundred years ago a few fable efforts were made on behalf of the left-handers .大約一百年前，有人曾為左撇子們做過一些微不足道的努力。\n",
      "There is , however , some truth in this fable不過在這個傳言中也有一些事實真相。 \n",
      "Tell them the fable about the fox and the grapes給他們講講狐貍和葡萄的寓言。 \n",
      "They are all alike founded on fables and mythology他們都是建立在神秘傳說之上。 \n",
      "I regard your expression as a kind of poem and fable把你的表情當作詩歌和寓言。 \n",
      "Tentative translations of ten fantastic fables試以音韻方法譯數則英語荒誕寓言\n",
      "Who told you your fairy fables about dr . satan誰告訴你這個關于撒旦醫生的美好神話\n",
      "Tradition and modernization of chinese fable literature中國寓言文學的傳統與現代化\n",
      "Fables in landscapes solo exhibition by miao jing - chang風景的預言苗景昌展\n",
      "This is a fable about a man and a satyr這是一個關于一個男人和薩梯的寓言。 \n",
      "Midnight : a tragic fable of modernity absence and conflict現代性缺失與沖突的悲劇寓言\n"
     ]
    }
   ],
   "source": [
    "bs = BeautifulSoup(res.text,'lxml')\n",
    "raw_examples = bs.find_all('li', attrs={'style':'text-align:left'})\n",
    "\n",
    "examples=[]\n",
    "\n",
    "for raw_example in raw_examples:\n",
    "    print(raw_example.text)\n",
    "    examples.append(raw_example.text)\n",
    "\n"
   ]
  },
  {
   "cell_type": "code",
   "execution_count": 61,
   "metadata": {},
   "outputs": [
    {
     "name": "stdout",
     "output_type": "stream",
     "text": [
      "還有例句\n",
      "/hy/zaoju.aspx?q=fable&p=2&l=\n",
      "/hy/zaoju.aspx?q=fable&p=3&l=\n"
     ]
    }
   ],
   "source": [
    "raw_pages = bs.find_all('a', attrs={'style':'text-decoration:underline;color:green'})\n",
    "pages=[]\n",
    "if raw_pages:\n",
    "    print(\"還有例句\")\n",
    "    for page in raw_pages:\n",
    "        print(page.get('href'))\n",
    "        pages.append(page.get('href'))\n",
    "else:\n",
    "    print(\"沒有更多例句了\")"
   ]
  },
  {
   "cell_type": "code",
   "execution_count": 63,
   "metadata": {},
   "outputs": [
    {
     "data": {
      "text/plain": [
       "'https://tw.ichacha.net/hy/zaoju.aspx?q=fable&p=3&l='"
      ]
     },
     "execution_count": 63,
     "metadata": {},
     "output_type": "execute_result"
    }
   ],
   "source": [
    "url"
   ]
  },
  {
   "cell_type": "code",
   "execution_count": 54,
   "metadata": {},
   "outputs": [
    {
     "name": "stdout",
     "output_type": "stream",
     "text": [
      "1\n",
      "2\n",
      "3\n"
     ]
    }
   ],
   "source": [
    "for i in range(0,len(pages)+1):\n",
    "    print(i+1)"
   ]
  },
  {
   "cell_type": "code",
   "execution_count": 55,
   "metadata": {},
   "outputs": [
    {
     "data": {
      "text/plain": [
       "2"
      ]
     },
     "execution_count": 55,
     "metadata": {},
     "output_type": "execute_result"
    }
   ],
   "source": [
    "len(pages)"
   ]
  },
  {
   "cell_type": "code",
   "execution_count": 49,
   "metadata": {},
   "outputs": [
    {
     "name": "stdout",
     "output_type": "stream",
     "text": [
      "1\n",
      "2\n",
      "He had some motive in telling this fable .他講這寓言故事是有用意的。\n",
      "The fable is given on the next page .這篇寓言登在下一頁上。\n",
      "Tell them the fable about the fox and the grapes .告訴他們那個狐貍與葡萄的寓言吧。\n",
      "We could not decide if it was fact or fable .我們無法確定這究竟是事實還是無稽之談。\n",
      "We may take the story of job for a history or a fable .我們可以把約伯的故事當作歷史或傳說。\n",
      "Great satire needs the sustenance of great fable .偉大的諷刺作品需要偉大的怪異故事來滋養它。\n",
      "Little mexican boys also breathe the american fables .墨西哥族的小孩子對美國神話也都耳濡目染。\n",
      "Such walls as in time may linger as a mere fable .這類高墻到將來只會給后代當作閑話當年的資料罷了。\n",
      "But fables and legends and aspirations have a hold on the human mind .但是，神話、傳說和愿望是能影響人的思想的。\n",
      "About a hundred years ago a few fable efforts were made on behalf of the left-handers .大約一百年前，有人曾為左撇子們做過一些微不足道的努力。\n",
      "There is , however , some truth in this fable不過在這個傳言中也有一些事實真相。 \n",
      "Tell them the fable about the fox and the grapes給他們講講狐貍和葡萄的寓言。 \n",
      "They are all alike founded on fables and mythology他們都是建立在神秘傳說之上。 \n",
      "I regard your expression as a kind of poem and fable把你的表情當作詩歌和寓言。 \n",
      "Tentative translations of ten fantastic fables試以音韻方法譯數則英語荒誕寓言\n",
      "Who told you your fairy fables about dr . satan誰告訴你這個關于撒旦醫生的美好神話\n",
      "Tradition and modernization of chinese fable literature中國寓言文學的傳統與現代化\n",
      "Fables in landscapes solo exhibition by miao jing - chang風景的預言苗景昌展\n",
      "This is a fable about a man and a satyr這是一個關于一個男人和薩梯的寓言。 \n",
      "Midnight : a tragic fable of modernity absence and conflict現代性缺失與沖突的悲劇寓言\n"
     ]
    }
   ],
   "source": [
    "bs = BeautifulSoup(res.text,'lxml')\n",
    "\n",
    "\n",
    "examples=[]\n",
    "\n",
    "pages = bs.find_all('a', attrs={'style':'text-decoration:underline;color:green'})\n",
    "pages=[]\n",
    "if raw_pages:\n",
    "    print(\"還有例句\")\n",
    "    \n",
    "    for page in raw_pages:\n",
    "        print(page.get('href'))\n",
    "        pages.append(page.get('href'))\n",
    "        \n",
    "        \n",
    "        raw_examples = bs.find_all('li', attrs={'style':'text-align:left'})\n",
    "        for raw_example in raw_examples:\n",
    "            print(raw_example.text)\n",
    "            examples.append(raw_example.text)\n",
    "\n",
    "        if len(page)>1:\n",
    "            url = \"https://tw.ichacha.net\"+page.get('href')\n",
    "            res = rs.get(url, headers=headers)\n",
    "\n",
    "else:\n",
    "    print(\"沒有更多例句了\")\n",
    "\n"
   ]
  },
  {
   "cell_type": "code",
   "execution_count": null,
   "metadata": {},
   "outputs": [],
   "source": []
  }
 ],
 "metadata": {
  "kernelspec": {
   "display_name": "elearning",
   "language": "python",
   "name": "elearning"
  },
  "language_info": {
   "codemirror_mode": {
    "name": "ipython",
    "version": 3
   },
   "file_extension": ".py",
   "mimetype": "text/x-python",
   "name": "python",
   "nbconvert_exporter": "python",
   "pygments_lexer": "ipython3",
   "version": "3.6.9"
  }
 },
 "nbformat": 4,
 "nbformat_minor": 2
}
